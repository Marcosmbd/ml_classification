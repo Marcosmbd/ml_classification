{
 "cells": [
  {
   "attachments": {},
   "cell_type": "markdown",
   "id": "27717a39",
   "metadata": {},
   "source": [
    "Importando módulos"
   ]
  },
  {
   "cell_type": "code",
   "execution_count": 4,
   "id": "c8033a2b",
   "metadata": {},
   "outputs": [],
   "source": [
    "import pandas as pd\n",
    "import numpy as np\n",
    "from pycaret.datasets import get_data\n",
    "from sklearn.metrics import classification_report\n",
    "from sklearn.ensemble import RandomForestClassifier\n",
    "from sklearn.preprocessing import MinMaxScaler\n",
    "from sklearn.model_selection import train_test_split\n",
    "import seaborn as sb\n",
    "from sklearn.metrics import confusion_matrix\n",
    "from sklearn.preprocessing import OneHotEncoder\n",
    "from sklearn.metrics import accuracy_score\n",
    "from dataprep.eda import create_report"
   ]
  },
  {
   "attachments": {},
   "cell_type": "markdown",
   "id": "14e26438",
   "metadata": {},
   "source": [
    "Selecionando base de estudo e fazendo análise descritiva dos dados"
   ]
  },
  {
   "cell_type": "code",
   "execution_count": 5,
   "id": "0bef4cd1",
   "metadata": {},
   "outputs": [
    {
     "data": {
      "text/html": [
       "<div>\n",
       "<style scoped>\n",
       "    .dataframe tbody tr th:only-of-type {\n",
       "        vertical-align: middle;\n",
       "    }\n",
       "\n",
       "    .dataframe tbody tr th {\n",
       "        vertical-align: top;\n",
       "    }\n",
       "\n",
       "    .dataframe thead th {\n",
       "        text-align: right;\n",
       "    }\n",
       "</style>\n",
       "<table border=\"1\" class=\"dataframe\">\n",
       "  <thead>\n",
       "    <tr style=\"text-align: right;\">\n",
       "      <th></th>\n",
       "      <th>PassengerId</th>\n",
       "      <th>Survived</th>\n",
       "      <th>Pclass</th>\n",
       "      <th>Name</th>\n",
       "      <th>Sex</th>\n",
       "      <th>Age</th>\n",
       "      <th>SibSp</th>\n",
       "      <th>Parch</th>\n",
       "      <th>Ticket</th>\n",
       "      <th>Fare</th>\n",
       "      <th>Cabin</th>\n",
       "      <th>Embarked</th>\n",
       "    </tr>\n",
       "  </thead>\n",
       "  <tbody>\n",
       "    <tr>\n",
       "      <th>0</th>\n",
       "      <td>1</td>\n",
       "      <td>0</td>\n",
       "      <td>3</td>\n",
       "      <td>Braund, Mr. Owen Harris</td>\n",
       "      <td>male</td>\n",
       "      <td>22.0</td>\n",
       "      <td>1</td>\n",
       "      <td>0</td>\n",
       "      <td>A/5 21171</td>\n",
       "      <td>7.2500</td>\n",
       "      <td>NaN</td>\n",
       "      <td>S</td>\n",
       "    </tr>\n",
       "    <tr>\n",
       "      <th>1</th>\n",
       "      <td>2</td>\n",
       "      <td>1</td>\n",
       "      <td>1</td>\n",
       "      <td>Cumings, Mrs. John Bradley (Florence Briggs Th...</td>\n",
       "      <td>female</td>\n",
       "      <td>38.0</td>\n",
       "      <td>1</td>\n",
       "      <td>0</td>\n",
       "      <td>PC 17599</td>\n",
       "      <td>71.2833</td>\n",
       "      <td>C85</td>\n",
       "      <td>C</td>\n",
       "    </tr>\n",
       "    <tr>\n",
       "      <th>2</th>\n",
       "      <td>3</td>\n",
       "      <td>1</td>\n",
       "      <td>3</td>\n",
       "      <td>Heikkinen, Miss. Laina</td>\n",
       "      <td>female</td>\n",
       "      <td>26.0</td>\n",
       "      <td>0</td>\n",
       "      <td>0</td>\n",
       "      <td>STON/O2. 3101282</td>\n",
       "      <td>7.9250</td>\n",
       "      <td>NaN</td>\n",
       "      <td>S</td>\n",
       "    </tr>\n",
       "    <tr>\n",
       "      <th>3</th>\n",
       "      <td>4</td>\n",
       "      <td>1</td>\n",
       "      <td>1</td>\n",
       "      <td>Futrelle, Mrs. Jacques Heath (Lily May Peel)</td>\n",
       "      <td>female</td>\n",
       "      <td>35.0</td>\n",
       "      <td>1</td>\n",
       "      <td>0</td>\n",
       "      <td>113803</td>\n",
       "      <td>53.1000</td>\n",
       "      <td>C123</td>\n",
       "      <td>S</td>\n",
       "    </tr>\n",
       "    <tr>\n",
       "      <th>4</th>\n",
       "      <td>5</td>\n",
       "      <td>0</td>\n",
       "      <td>3</td>\n",
       "      <td>Allen, Mr. William Henry</td>\n",
       "      <td>male</td>\n",
       "      <td>35.0</td>\n",
       "      <td>0</td>\n",
       "      <td>0</td>\n",
       "      <td>373450</td>\n",
       "      <td>8.0500</td>\n",
       "      <td>NaN</td>\n",
       "      <td>S</td>\n",
       "    </tr>\n",
       "  </tbody>\n",
       "</table>\n",
       "</div>"
      ],
      "text/plain": [
       "   PassengerId  Survived  Pclass  \\\n",
       "0            1         0       3   \n",
       "1            2         1       1   \n",
       "2            3         1       3   \n",
       "3            4         1       1   \n",
       "4            5         0       3   \n",
       "\n",
       "                                                Name     Sex   Age  SibSp  \\\n",
       "0                            Braund, Mr. Owen Harris    male  22.0      1   \n",
       "1  Cumings, Mrs. John Bradley (Florence Briggs Th...  female  38.0      1   \n",
       "2                             Heikkinen, Miss. Laina  female  26.0      0   \n",
       "3       Futrelle, Mrs. Jacques Heath (Lily May Peel)  female  35.0      1   \n",
       "4                           Allen, Mr. William Henry    male  35.0      0   \n",
       "\n",
       "   Parch            Ticket     Fare Cabin Embarked  \n",
       "0      0         A/5 21171   7.2500   NaN        S  \n",
       "1      0          PC 17599  71.2833   C85        C  \n",
       "2      0  STON/O2. 3101282   7.9250   NaN        S  \n",
       "3      0            113803  53.1000  C123        S  \n",
       "4      0            373450   8.0500   NaN        S  "
      ]
     },
     "metadata": {},
     "output_type": "display_data"
    },
    {
     "data": {
      "application/vnd.jupyter.widget-view+json": {
       "model_id": "a4913869e6924a76982dc790bd772d3f",
       "version_major": 2,
       "version_minor": 0
      },
      "text/plain": [
       "  0%|          | 0/1420 [00:00<?, ?it/s]"
      ]
     },
     "metadata": {},
     "output_type": "display_data"
    }
   ],
   "source": [
    "df = get_data('titanic')\n",
    "data_report = create_report(df, title='Report Titanic')\n",
    "data_report.show_browser()"
   ]
  },
  {
   "attachments": {},
   "cell_type": "markdown",
   "id": "5f8b4ef7",
   "metadata": {},
   "source": [
    "Selecionando e separando variáveis, aqui também já substituímos os valores em branco que percebemos na análise anterior. <br>\n",
    "Eles serão substituídos pelo valor médio da coluna, que no caso é a coluna \"Age\". <br>\n",
    "Aqui também definimos nosso Target, que será a coluna \"Survived\"."
   ]
  },
  {
   "cell_type": "code",
   "execution_count": 6,
   "id": "7b773737",
   "metadata": {},
   "outputs": [],
   "source": [
    "x = df[['Fare','Age','Sex']]\n",
    "x = x.fillna(x['Age'].mean())\n",
    "y = df[['Survived']]"
   ]
  },
  {
   "attachments": {},
   "cell_type": "markdown",
   "id": "b1cc61bd",
   "metadata": {},
   "source": [
    "Temos uma coluna categórica, que é a coluna de \"sex\", então precisamos convertê-la para um formato numérico, <br>\n",
    "e para isso usamos a classe \"OneHotEncoder\""
   ]
  },
  {
   "cell_type": "code",
   "execution_count": 7,
   "id": "3ced942a",
   "metadata": {},
   "outputs": [],
   "source": [
    "x_type = x.select_dtypes(include='object')\n",
    "onehot = OneHotEncoder(sparse=False, drop='first')\n",
    "x_bin = onehot.fit_transform(x_type)"
   ]
  },
  {
   "attachments": {},
   "cell_type": "markdown",
   "id": "1a4ed741",
   "metadata": {},
   "source": [
    "Nesta etapa, faremos a normalização dos dados para uma mesma escala, a fim de minimizar o impacto de valores acentuados na predição."
   ]
  },
  {
   "cell_type": "code",
   "execution_count": 8,
   "id": "0aa81681",
   "metadata": {},
   "outputs": [],
   "source": [
    "normalizador = MinMaxScaler()\n",
    "x_norm = normalizador.fit_transform(x.select_dtypes(exclude='object'))\n",
    "x_all = np.append(x_norm,x_bin, axis=1)"
   ]
  },
  {
   "attachments": {},
   "cell_type": "markdown",
   "id": "b2f6f457",
   "metadata": {},
   "source": [
    "Definindo base de treino e teste"
   ]
  },
  {
   "cell_type": "code",
   "execution_count": 9,
   "id": "3f535db5",
   "metadata": {},
   "outputs": [],
   "source": [
    "x_train, x_test, y_train, y_test = train_test_split(x_all, y, train_size= 0.75, random_state= 42)"
   ]
  },
  {
   "attachments": {},
   "cell_type": "markdown",
   "id": "2bc4685f",
   "metadata": {},
   "source": [
    "Ajustando hiperparâmetros do algorítmo selecioado"
   ]
  },
  {
   "cell_type": "code",
   "execution_count": 10,
   "id": "372ab3b2",
   "metadata": {},
   "outputs": [],
   "source": [
    "RFC = RandomForestClassifier(n_estimators= 350,\n",
    "                            max_depth= 10, \n",
    "                            max_features= None,\n",
    "                            max_samples=None\n",
    "                            )"
   ]
  },
  {
   "attachments": {},
   "cell_type": "markdown",
   "id": "c523201f",
   "metadata": {},
   "source": [
    "Treinando, testando, e verificando a acurácia"
   ]
  },
  {
   "cell_type": "code",
   "execution_count": 11,
   "id": "8bd9b3f1",
   "metadata": {},
   "outputs": [
    {
     "data": {
      "text/plain": [
       "0.7892376681614349"
      ]
     },
     "execution_count": 11,
     "metadata": {},
     "output_type": "execute_result"
    }
   ],
   "source": [
    "RFC.fit(x_train,y_train)\n",
    "predict = RFC.predict(x_test)\n",
    "accuracy_score(y_test, predict)"
   ]
  },
  {
   "attachments": {},
   "cell_type": "markdown",
   "id": "58d4987f",
   "metadata": {},
   "source": [
    "Avaliando com base de teste com report completo"
   ]
  },
  {
   "cell_type": "code",
   "execution_count": 12,
   "id": "2c434301",
   "metadata": {},
   "outputs": [
    {
     "name": "stdout",
     "output_type": "stream",
     "text": [
      "              precision    recall  f1-score   support\n",
      "\n",
      "           0       0.80      0.87      0.83       134\n",
      "           1       0.78      0.66      0.72        89\n",
      "\n",
      "    accuracy                           0.79       223\n",
      "   macro avg       0.79      0.77      0.77       223\n",
      "weighted avg       0.79      0.79      0.79       223\n",
      "\n"
     ]
    }
   ],
   "source": [
    "report_predict = classification_report(y_test, RFC.predict(x_test))\n",
    "print(report_predict)"
   ]
  },
  {
   "attachments": {},
   "cell_type": "markdown",
   "id": "2ec76b0e",
   "metadata": {},
   "source": [
    "Visualização dos dados com heatmap"
   ]
  },
  {
   "cell_type": "code",
   "execution_count": 13,
   "id": "98de0265",
   "metadata": {},
   "outputs": [
    {
     "data": {
      "text/plain": [
       "<AxesSubplot: >"
      ]
     },
     "execution_count": 13,
     "metadata": {},
     "output_type": "execute_result"
    },
    {
     "data": {
      "image/png": "[encoded data removed]",
      "text/plain": [
       "<Figure size 640x480 with 2 Axes>"
      ]
     },
     "metadata": {},
     "output_type": "display_data"
    }
   ],
   "source": [
    "sb.heatmap(confusion_matrix(y_test, RFC.predict(x_test)), annot=True)"
   ]
  },
  {
   "attachments": {},
   "cell_type": "markdown",
   "id": "261416c2",
   "metadata": {},
   "source": [
    "Agora vamos ajustar a base completa para fazer a predição"
   ]
  },
  {
   "cell_type": "code",
   "execution_count": 14,
   "id": "6665fc39",
   "metadata": {},
   "outputs": [],
   "source": [
    "#Base Completa\n",
    "x_bim_total = onehot.transform(x.select_dtypes(include='object'))\n",
    "y_num_total = normalizador.transform(x.select_dtypes(exclude='object'))\n",
    "x_new_all = np.append(y_num_total, x_bim_total, axis=1)"
   ]
  },
  {
   "attachments": {},
   "cell_type": "markdown",
   "id": "7d04afe3",
   "metadata": {},
   "source": [
    "Faremos então a predição, e exibiremos tudo em um único DataFrame, podendo comparar as colunas"
   ]
  },
  {
   "cell_type": "code",
   "execution_count": 17,
   "id": "58ce06c3",
   "metadata": {},
   "outputs": [
    {
     "data": {
      "text/html": [
       "<div>\n",
       "<style scoped>\n",
       "    .dataframe tbody tr th:only-of-type {\n",
       "        vertical-align: middle;\n",
       "    }\n",
       "\n",
       "    .dataframe tbody tr th {\n",
       "        vertical-align: top;\n",
       "    }\n",
       "\n",
       "    .dataframe thead th {\n",
       "        text-align: right;\n",
       "    }\n",
       "</style>\n",
       "<table border=\"1\" class=\"dataframe\">\n",
       "  <thead>\n",
       "    <tr style=\"text-align: right;\">\n",
       "      <th></th>\n",
       "      <th>Fare</th>\n",
       "      <th>Age</th>\n",
       "      <th>Sex</th>\n",
       "      <th>Predição</th>\n",
       "      <th>Sobreviveu</th>\n",
       "    </tr>\n",
       "  </thead>\n",
       "  <tbody>\n",
       "    <tr>\n",
       "      <th>0</th>\n",
       "      <td>7.2500</td>\n",
       "      <td>22.000000</td>\n",
       "      <td>male</td>\n",
       "      <td>0</td>\n",
       "      <td>0</td>\n",
       "    </tr>\n",
       "    <tr>\n",
       "      <th>1</th>\n",
       "      <td>71.2833</td>\n",
       "      <td>38.000000</td>\n",
       "      <td>female</td>\n",
       "      <td>1</td>\n",
       "      <td>1</td>\n",
       "    </tr>\n",
       "    <tr>\n",
       "      <th>2</th>\n",
       "      <td>7.9250</td>\n",
       "      <td>26.000000</td>\n",
       "      <td>female</td>\n",
       "      <td>1</td>\n",
       "      <td>1</td>\n",
       "    </tr>\n",
       "    <tr>\n",
       "      <th>3</th>\n",
       "      <td>53.1000</td>\n",
       "      <td>35.000000</td>\n",
       "      <td>female</td>\n",
       "      <td>1</td>\n",
       "      <td>1</td>\n",
       "    </tr>\n",
       "    <tr>\n",
       "      <th>4</th>\n",
       "      <td>8.0500</td>\n",
       "      <td>35.000000</td>\n",
       "      <td>male</td>\n",
       "      <td>0</td>\n",
       "      <td>0</td>\n",
       "    </tr>\n",
       "    <tr>\n",
       "      <th>...</th>\n",
       "      <td>...</td>\n",
       "      <td>...</td>\n",
       "      <td>...</td>\n",
       "      <td>...</td>\n",
       "      <td>...</td>\n",
       "    </tr>\n",
       "    <tr>\n",
       "      <th>886</th>\n",
       "      <td>13.0000</td>\n",
       "      <td>27.000000</td>\n",
       "      <td>male</td>\n",
       "      <td>0</td>\n",
       "      <td>0</td>\n",
       "    </tr>\n",
       "    <tr>\n",
       "      <th>887</th>\n",
       "      <td>30.0000</td>\n",
       "      <td>19.000000</td>\n",
       "      <td>female</td>\n",
       "      <td>1</td>\n",
       "      <td>1</td>\n",
       "    </tr>\n",
       "    <tr>\n",
       "      <th>888</th>\n",
       "      <td>23.4500</td>\n",
       "      <td>29.699118</td>\n",
       "      <td>female</td>\n",
       "      <td>1</td>\n",
       "      <td>0</td>\n",
       "    </tr>\n",
       "    <tr>\n",
       "      <th>889</th>\n",
       "      <td>30.0000</td>\n",
       "      <td>26.000000</td>\n",
       "      <td>male</td>\n",
       "      <td>1</td>\n",
       "      <td>1</td>\n",
       "    </tr>\n",
       "    <tr>\n",
       "      <th>890</th>\n",
       "      <td>7.7500</td>\n",
       "      <td>32.000000</td>\n",
       "      <td>male</td>\n",
       "      <td>0</td>\n",
       "      <td>0</td>\n",
       "    </tr>\n",
       "  </tbody>\n",
       "</table>\n",
       "<p>891 rows × 5 columns</p>\n",
       "</div>"
      ],
      "text/plain": [
       "        Fare        Age     Sex  Predição  Sobreviveu\n",
       "0     7.2500  22.000000    male         0           0\n",
       "1    71.2833  38.000000  female         1           1\n",
       "2     7.9250  26.000000  female         1           1\n",
       "3    53.1000  35.000000  female         1           1\n",
       "4     8.0500  35.000000    male         0           0\n",
       "..       ...        ...     ...       ...         ...\n",
       "886  13.0000  27.000000    male         0           0\n",
       "887  30.0000  19.000000  female         1           1\n",
       "888  23.4500  29.699118  female         1           0\n",
       "889  30.0000  26.000000    male         1           1\n",
       "890   7.7500  32.000000    male         0           0\n",
       "\n",
       "[891 rows x 5 columns]"
      ]
     },
     "metadata": {},
     "output_type": "display_data"
    }
   ],
   "source": [
    "x_copy = x.copy()\n",
    "x_copy['Predição'] = RFC.predict(x_new_all)\n",
    "x_copy['Sobreviveu'] = y\n",
    "display(x_copy)"
   ]
  },
  {
   "attachments": {},
   "cell_type": "markdown",
   "id": "d8109833",
   "metadata": {},
   "source": [
    "Verificando Acurácia na base completa. <br>\n",
    "Aqui vemos uma acurácia de 90%"
   ]
  },
  {
   "cell_type": "code",
   "execution_count": 16,
   "id": "b961745c",
   "metadata": {},
   "outputs": [
    {
     "name": "stdout",
     "output_type": "stream",
     "text": [
      "              precision    recall  f1-score   support\n",
      "\n",
      "           0       0.89      0.96      0.92       549\n",
      "           1       0.92      0.82      0.87       342\n",
      "\n",
      "    accuracy                           0.90       891\n",
      "   macro avg       0.91      0.89      0.90       891\n",
      "weighted avg       0.90      0.90      0.90       891\n",
      "\n"
     ]
    }
   ],
   "source": [
    "acuracia = classification_report(y, RFC.predict(x_new_all))\n",
    "print(acuracia)"
   ]
  },
  {
   "attachments": {},
   "cell_type": "markdown",
   "id": "fda6bc2e",
   "metadata": {},
   "source": [
    "Visualização dos dados com heatmap"
   ]
  },
  {
   "cell_type": "code",
   "execution_count": 18,
   "id": "4697ffc4",
   "metadata": {},
   "outputs": [
    {
     "data": {
      "text/plain": [
       "<AxesSubplot: >"
      ]
     },
     "execution_count": 18,
     "metadata": {},
     "output_type": "execute_result"
    },
    {
     "data": {
      "image/png": "[encoded data removed]",
      "text/plain": [
       "<Figure size 640x480 with 2 Axes>"
      ]
     },
     "metadata": {},
     "output_type": "display_data"
    }
   ],
   "source": [
    "sb.heatmap(confusion_matrix(y, RFC.predict(x_new_all)),annot=True)"
   ]
  }
 ],
 "metadata": {
  "kernelspec": {
   "display_name": "Python 3",
   "language": "python",
   "name": "python3"
  },
  "language_info": {
   "codemirror_mode": {
    "name": "ipython",
    "version": 3
   },
   "file_extension": ".py",
   "mimetype": "text/x-python",
   "name": "python",
   "nbconvert_exporter": "python",
   "pygments_lexer": "ipython3",
   "version": "3.10.8"
  },
  "vscode": {
   "interpreter": {
    "hash": "afb734500600fd355917ca529030176ea0ca205570884b88f2f6f7d791fd3fbe"
   }
  }
 },
 "nbformat": 4,
 "nbformat_minor": 5
}
